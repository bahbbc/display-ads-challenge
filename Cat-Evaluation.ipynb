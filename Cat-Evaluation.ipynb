{
 "cells": [
  {
   "cell_type": "code",
   "execution_count": 1,
   "metadata": {
    "collapsed": true
   },
   "outputs": [],
   "source": [
    "from joblib import dump, load\n",
    "import pandas as pd\n",
    "from sklearn.feature_extraction import FeatureHasher\n",
    "import numpy as np\n",
    "from sklearn.metrics import log_loss\n",
    "from sklearn import decomposition"
   ]
  },
  {
   "cell_type": "code",
   "execution_count": 2,
   "metadata": {
    "collapsed": true
   },
   "outputs": [],
   "source": [
    "column_names = ['interger1','interger2','interger3','interger4','interger5','interger6',\n",
    "                'interger7','interger8','interger9','interger10','interger11','interger12','interger13',\n",
    "                'categorical1','categorical2','categorical3','categorical4','categorical5','categorical6',\n",
    "                'categorical7','categorical8','categorical9','categorical10','categorical11','categorical12',\n",
    "                'categorical13','categorical14','categorical15','categorical16','categorical17','categorical18',\n",
    "                'categorical19','categorical20','categorical21','categorical22','categorical23','categorical24',\n",
    "                'categorical25','categorical26']"
   ]
  },
  {
   "cell_type": "code",
   "execution_count": 3,
   "metadata": {
    "collapsed": true
   },
   "outputs": [],
   "source": [
    "test = pd.read_csv('/home/bahbbc/workspace/display-ads-challenge/dac/test.txt', sep='\\t',\n",
    "            names=column_names, chunksize=327433, engine='python')"
   ]
  },
  {
   "cell_type": "code",
   "execution_count": 4,
   "metadata": {
    "collapsed": true
   },
   "outputs": [],
   "source": [
    "clt = load('regularized-pca-logistic.pkl')\n",
    "scaler = load('integer-pca-scaler.pkl')\n",
    "svd = load('svd-reduction.pkl')"
   ]
  },
  {
   "cell_type": "code",
   "execution_count": 5,
   "metadata": {
    "collapsed": true
   },
   "outputs": [],
   "source": [
    "integer_cols = ['interger2', 'interger8', 'interger5','interger11', 'interger9', 'interger7']\n",
    "cat_vars = ['categorical8', 'categorical14', 'categorical5', 'categorical12', 'categorical11', \n",
    "                'categorical10', 'categorical7', 'categorical1', 'categorical15', 'categorical18', \n",
    "                'categorical13', 'categorical16']"
   ]
  },
  {
   "cell_type": "code",
   "execution_count": 6,
   "metadata": {
    "collapsed": true
   },
   "outputs": [],
   "source": [
    "feature_hasher = FeatureHasher(n_features=1000)"
   ]
  },
  {
   "cell_type": "code",
   "execution_count": 7,
   "metadata": {},
   "outputs": [
    {
     "name": "stderr",
     "output_type": "stream",
     "text": [
      "/home/bahbbc/anaconda3/lib/python3.6/site-packages/pandas/core/frame.py:3765: SettingWithCopyWarning: \n",
      "A value is trying to be set on a copy of a slice from a DataFrame.\n",
      "Try using .loc[row_indexer,col_indexer] = value instead\n",
      "\n",
      "See the caveats in the documentation: http://pandas.pydata.org/pandas-docs/stable/indexing.html#indexing-view-versus-copy\n",
      "  raise_on_error=True)\n"
     ]
    }
   ],
   "source": [
    "probs = np.array([0,0])\n",
    "for chunk in test:\n",
    "    #pre-processing\n",
    "    X = chunk[integer_cols + cat_vars]\n",
    "    X.update(X[integer_cols].fillna(0))\n",
    "    X.update(X[cat_vars].fillna('NULL'))\n",
    "\n",
    "    X_integer = scaler.transform(X[integer_cols])\n",
    "    \n",
    "    X_cat = feature_hasher.transform(X[cat_vars].to_dict('records')).toarray()\n",
    "    X_test = np.hstack((X_cat, X_integer))\n",
    "    \n",
    "    principal_components = svd.transform(X_test)\n",
    "    #predict\n",
    "    prob = clt.predict_proba(principal_components)\n",
    "    probs = np.vstack((probs, prob))"
   ]
  },
  {
   "cell_type": "code",
   "execution_count": 8,
   "metadata": {},
   "outputs": [
    {
     "data": {
      "text/plain": [
       "array([[ 0.        ,  0.        ],\n",
       "       [ 0.63079615,  0.36920385],\n",
       "       [ 0.60781292,  0.39218708],\n",
       "       [ 0.64802131,  0.35197869],\n",
       "       [ 0.73183668,  0.26816332],\n",
       "       [ 0.71200348,  0.28799652],\n",
       "       [ 0.67283683,  0.32716317],\n",
       "       [ 0.70638405,  0.29361595],\n",
       "       [ 0.75138986,  0.24861014],\n",
       "       [ 0.70858191,  0.29141809]])"
      ]
     },
     "execution_count": 8,
     "metadata": {},
     "output_type": "execute_result"
    }
   ],
   "source": [
    "probs[:10]"
   ]
  },
  {
   "cell_type": "code",
   "execution_count": 9,
   "metadata": {},
   "outputs": [
    {
     "data": {
      "text/plain": [
       "6042136"
      ]
     },
     "execution_count": 9,
     "metadata": {},
     "output_type": "execute_result"
    }
   ],
   "source": [
    "len(probs)"
   ]
  },
  {
   "cell_type": "code",
   "execution_count": 10,
   "metadata": {},
   "outputs": [
    {
     "data": {
      "text/plain": [
       "array([ 0.,  0.])"
      ]
     },
     "execution_count": 10,
     "metadata": {},
     "output_type": "execute_result"
    }
   ],
   "source": [
    "probs[0]                                                          "
   ]
  },
  {
   "cell_type": "code",
   "execution_count": 11,
   "metadata": {
    "collapsed": true
   },
   "outputs": [],
   "source": [
    "p = probs[1:6042136]"
   ]
  },
  {
   "cell_type": "code",
   "execution_count": 12,
   "metadata": {},
   "outputs": [
    {
     "data": {
      "text/plain": [
       "6042135"
      ]
     },
     "execution_count": 12,
     "metadata": {},
     "output_type": "execute_result"
    }
   ],
   "source": [
    "len(p)"
   ]
  },
  {
   "cell_type": "code",
   "execution_count": 13,
   "metadata": {
    "collapsed": true
   },
   "outputs": [],
   "source": [
    "probs = pd.DataFrame(p, columns=['0','1'])"
   ]
  },
  {
   "cell_type": "code",
   "execution_count": 14,
   "metadata": {
    "collapsed": true
   },
   "outputs": [],
   "source": [
    "sample_sub = pd.read_csv('/home/bahbbc/workspace/display-ads-challenge/random_submission.csv', sep=',',)"
   ]
  },
  {
   "cell_type": "code",
   "execution_count": 15,
   "metadata": {
    "collapsed": true
   },
   "outputs": [],
   "source": [
    "sample_sub['Predicted'] = probs['1']"
   ]
  },
  {
   "cell_type": "code",
   "execution_count": 16,
   "metadata": {},
   "outputs": [
    {
     "data": {
      "text/html": [
       "<div>\n",
       "<style>\n",
       "    .dataframe thead tr:only-child th {\n",
       "        text-align: right;\n",
       "    }\n",
       "\n",
       "    .dataframe thead th {\n",
       "        text-align: left;\n",
       "    }\n",
       "\n",
       "    .dataframe tbody tr th {\n",
       "        vertical-align: top;\n",
       "    }\n",
       "</style>\n",
       "<table border=\"1\" class=\"dataframe\">\n",
       "  <thead>\n",
       "    <tr style=\"text-align: right;\">\n",
       "      <th></th>\n",
       "      <th>Id</th>\n",
       "      <th>Predicted</th>\n",
       "    </tr>\n",
       "  </thead>\n",
       "  <tbody>\n",
       "    <tr>\n",
       "      <th>0</th>\n",
       "      <td>60000000</td>\n",
       "      <td>0.369204</td>\n",
       "    </tr>\n",
       "    <tr>\n",
       "      <th>1</th>\n",
       "      <td>60000001</td>\n",
       "      <td>0.392187</td>\n",
       "    </tr>\n",
       "    <tr>\n",
       "      <th>2</th>\n",
       "      <td>60000002</td>\n",
       "      <td>0.351979</td>\n",
       "    </tr>\n",
       "    <tr>\n",
       "      <th>3</th>\n",
       "      <td>60000003</td>\n",
       "      <td>0.268163</td>\n",
       "    </tr>\n",
       "    <tr>\n",
       "      <th>4</th>\n",
       "      <td>60000004</td>\n",
       "      <td>0.287997</td>\n",
       "    </tr>\n",
       "  </tbody>\n",
       "</table>\n",
       "</div>"
      ],
      "text/plain": [
       "         Id  Predicted\n",
       "0  60000000   0.369204\n",
       "1  60000001   0.392187\n",
       "2  60000002   0.351979\n",
       "3  60000003   0.268163\n",
       "4  60000004   0.287997"
      ]
     },
     "execution_count": 16,
     "metadata": {},
     "output_type": "execute_result"
    }
   ],
   "source": [
    "sample_sub.head()"
   ]
  },
  {
   "cell_type": "code",
   "execution_count": 17,
   "metadata": {
    "collapsed": true
   },
   "outputs": [],
   "source": [
    "sample_sub.to_csv('pca-probs.csv', index=False)"
   ]
  }
 ],
 "metadata": {
  "kernelspec": {
   "display_name": "Python 3",
   "language": "python",
   "name": "python3"
  },
  "language_info": {
   "codemirror_mode": {
    "name": "ipython",
    "version": 3
   },
   "file_extension": ".py",
   "mimetype": "text/x-python",
   "name": "python",
   "nbconvert_exporter": "python",
   "pygments_lexer": "ipython3",
   "version": "3.6.3"
  }
 },
 "nbformat": 4,
 "nbformat_minor": 2
}
