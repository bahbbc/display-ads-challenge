{
 "cells": [
  {
   "cell_type": "code",
   "execution_count": 1,
   "metadata": {
    "collapsed": true
   },
   "outputs": [],
   "source": [
    "from joblib import dump, load\n",
    "import pandas as pd\n",
    "from sklearn.feature_extraction import FeatureHasher\n",
    "import numpy as np"
   ]
  },
  {
   "cell_type": "code",
   "execution_count": 2,
   "metadata": {
    "collapsed": true
   },
   "outputs": [],
   "source": [
    "column_names = ['interger1','interger2','interger3','interger4','interger5','interger6',\n",
    "                'interger7','interger8','interger9','interger10','interger11','interger12','interger13',\n",
    "                'categorical1','categorical2','categorical3','categorical4','categorical5','categorical6',\n",
    "                'categorical7','categorical8','categorical9','categorical10','categorical11','categorical12',\n",
    "                'categorical13','categorical14','categorical15','categorical16','categorical17','categorical18',\n",
    "                'categorical19','categorical20','categorical21','categorical22','categorical23','categorical24',\n",
    "                'categorical25','categorical26']"
   ]
  },
  {
   "cell_type": "code",
   "execution_count": 3,
   "metadata": {
    "collapsed": true
   },
   "outputs": [],
   "source": [
    "test = pd.read_csv('/home/bahbbc/workspace/display-ads-challenge/dac/test.txt', sep='\\t',\n",
    "            names=column_names, chunksize=327433, engine='python')"
   ]
  },
  {
   "cell_type": "code",
   "execution_count": 4,
   "metadata": {
    "collapsed": true
   },
   "outputs": [],
   "source": [
    "clt = load('regularized-cat-logistic.pkl')\n",
    "scaler = load('integer-scaler.pkl')"
   ]
  },
  {
   "cell_type": "code",
   "execution_count": 5,
   "metadata": {
    "collapsed": true
   },
   "outputs": [],
   "source": [
    "integer_cols = ['interger2', 'interger8', 'interger5','interger11', 'interger9', 'interger7']\n",
    "cat_vars = ['categorical8', 'categorical14', 'categorical5', 'categorical12', 'categorical11', \n",
    "                'categorical10', 'categorical7', 'categorical1', 'categorical15', 'categorical18', \n",
    "                'categorical13', 'categorical16']"
   ]
  },
  {
   "cell_type": "code",
   "execution_count": 6,
   "metadata": {
    "collapsed": true
   },
   "outputs": [],
   "source": [
    "feature_hasher = FeatureHasher(n_features=1000)"
   ]
  },
  {
   "cell_type": "code",
   "execution_count": 8,
   "metadata": {},
   "outputs": [
    {
     "name": "stderr",
     "output_type": "stream",
     "text": [
      "/home/bahbbc/anaconda3/lib/python3.6/site-packages/pandas/core/frame.py:3765: SettingWithCopyWarning: \n",
      "A value is trying to be set on a copy of a slice from a DataFrame.\n",
      "Try using .loc[row_indexer,col_indexer] = value instead\n",
      "\n",
      "See the caveats in the documentation: http://pandas.pydata.org/pandas-docs/stable/indexing.html#indexing-view-versus-copy\n",
      "  raise_on_error=True)\n"
     ]
    }
   ],
   "source": [
    "probs = np.array([0,0])\n",
    "for chunk in test:\n",
    "    #pre-processing\n",
    "    X = chunk[integer_cols + cat_vars]\n",
    "    X.update(X[integer_cols].fillna(0))\n",
    "    X.update(X[cat_vars].fillna('NULL'))\n",
    "\n",
    "    X_integer = scaler.transform(X[integer_cols])\n",
    "    \n",
    "    X_cat = feature_hasher.transform(X[cat_vars].to_dict('records')).toarray()\n",
    "    X_test = np.hstack((X_cat, X_integer))\n",
    "    #predict\n",
    "    prob = clt.predict_proba(X_test)\n",
    "    probs = np.vstack((probs, prob))"
   ]
  },
  {
   "cell_type": "code",
   "execution_count": 9,
   "metadata": {},
   "outputs": [
    {
     "data": {
      "text/plain": [
       "array([[ 0.        ,  0.        ],\n",
       "       [ 0.66769261,  0.33230739],\n",
       "       [ 0.86358344,  0.13641656],\n",
       "       [ 0.71143448,  0.28856552],\n",
       "       [ 0.60382319,  0.39617681],\n",
       "       [ 0.65524312,  0.34475688],\n",
       "       [ 0.65183221,  0.34816779],\n",
       "       [ 0.6445354 ,  0.3554646 ],\n",
       "       [ 0.72149176,  0.27850824],\n",
       "       [ 0.71432725,  0.28567275]])"
      ]
     },
     "execution_count": 9,
     "metadata": {},
     "output_type": "execute_result"
    }
   ],
   "source": [
    "probs[:10]"
   ]
  },
  {
   "cell_type": "code",
   "execution_count": 10,
   "metadata": {},
   "outputs": [
    {
     "data": {
      "text/plain": [
       "5714703"
      ]
     },
     "execution_count": 10,
     "metadata": {},
     "output_type": "execute_result"
    }
   ],
   "source": [
    "len(probs)"
   ]
  }
 ],
 "metadata": {
  "kernelspec": {
   "display_name": "Python 3",
   "language": "python",
   "name": "python3"
  },
  "language_info": {
   "codemirror_mode": {
    "name": "ipython",
    "version": 3
   },
   "file_extension": ".py",
   "mimetype": "text/x-python",
   "name": "python",
   "nbconvert_exporter": "python",
   "pygments_lexer": "ipython3",
   "version": "3.6.3"
  }
 },
 "nbformat": 4,
 "nbformat_minor": 2
}
