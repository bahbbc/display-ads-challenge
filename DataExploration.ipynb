{
 "cells": [
  {
   "cell_type": "markdown",
   "metadata": {},
   "source": [
    "# Sample EDA"
   ]
  },
  {
   "cell_type": "code",
   "execution_count": 1,
   "metadata": {},
   "outputs": [],
   "source": [
    "import dask.dataframe as dd\n",
    "import pandas as pd\n",
    "pd.set_option('display.max_columns', 500)\n",
    "from dask_ml.linear_model import LogisticRegression"
   ]
  },
  {
   "cell_type": "markdown",
   "metadata": {},
   "source": [
    "Since the dataset doesn't have a header we will use the dataset README to create a preliminary header"
   ]
  },
  {
   "cell_type": "code",
   "execution_count": 2,
   "metadata": {},
   "outputs": [],
   "source": [
    "column_names = ['label','interger1','interger2','interger3','interger4','interger5','interger6',\n",
    "                'interger7','interger8','interger9','interger10','interger11','interger12','interger13',\n",
    "                'categorical1','categorical2','categorical3','categorical4','categorical5','categorical6',\n",
    "                'categorical7','categorical8','categorical9','categorical10','categorical11','categorical12',\n",
    "                'categorical13','categorical14','categorical15','categorical16','categorical17','categorical18',\n",
    "                'categorical19','categorical20','categorical21','categorical22','categorical23','categorical24',\n",
    "                'categorical25','categorical26']"
   ]
  },
  {
   "cell_type": "code",
   "execution_count": 3,
   "metadata": {},
   "outputs": [],
   "source": [
    "df = dd.read_csv('/home/bahbbc/workspace/display-ads-challenge/dac/train.txt', sep='\\t', names = column_names)"
   ]
  },
  {
   "cell_type": "code",
   "execution_count": 4,
   "metadata": {},
   "outputs": [],
   "source": [
    "answer = dd.read_csv('/home/bahbbc/workspace/display-ads-challenge/dac/test.txt', sep='\\t', names=column_names[1:])"
   ]
  },
  {
   "cell_type": "code",
   "execution_count": 5,
   "metadata": {},
   "outputs": [
    {
     "data": {
      "text/html": [
       "<div>\n",
       "<style scoped>\n",
       "    .dataframe tbody tr th:only-of-type {\n",
       "        vertical-align: middle;\n",
       "    }\n",
       "\n",
       "    .dataframe tbody tr th {\n",
       "        vertical-align: top;\n",
       "    }\n",
       "\n",
       "    .dataframe thead th {\n",
       "        text-align: right;\n",
       "    }\n",
       "</style>\n",
       "<table border=\"1\" class=\"dataframe\">\n",
       "  <thead>\n",
       "    <tr style=\"text-align: right;\">\n",
       "      <th></th>\n",
       "      <th>interger1</th>\n",
       "      <th>interger2</th>\n",
       "      <th>interger3</th>\n",
       "      <th>interger4</th>\n",
       "      <th>interger5</th>\n",
       "      <th>interger6</th>\n",
       "      <th>interger7</th>\n",
       "      <th>interger8</th>\n",
       "      <th>interger9</th>\n",
       "      <th>interger10</th>\n",
       "      <th>interger11</th>\n",
       "      <th>interger12</th>\n",
       "      <th>interger13</th>\n",
       "      <th>categorical1</th>\n",
       "      <th>categorical2</th>\n",
       "      <th>categorical3</th>\n",
       "      <th>categorical4</th>\n",
       "      <th>categorical5</th>\n",
       "      <th>categorical6</th>\n",
       "      <th>categorical7</th>\n",
       "      <th>categorical8</th>\n",
       "      <th>categorical9</th>\n",
       "      <th>categorical10</th>\n",
       "      <th>categorical11</th>\n",
       "      <th>categorical12</th>\n",
       "      <th>categorical13</th>\n",
       "      <th>categorical14</th>\n",
       "      <th>categorical15</th>\n",
       "      <th>categorical16</th>\n",
       "      <th>categorical17</th>\n",
       "      <th>categorical18</th>\n",
       "      <th>categorical19</th>\n",
       "      <th>categorical20</th>\n",
       "      <th>categorical21</th>\n",
       "      <th>categorical22</th>\n",
       "      <th>categorical23</th>\n",
       "      <th>categorical24</th>\n",
       "      <th>categorical25</th>\n",
       "      <th>categorical26</th>\n",
       "    </tr>\n",
       "  </thead>\n",
       "  <tbody>\n",
       "    <tr>\n",
       "      <th>0</th>\n",
       "      <td>NaN</td>\n",
       "      <td>29</td>\n",
       "      <td>50.0</td>\n",
       "      <td>5.0</td>\n",
       "      <td>7260.0</td>\n",
       "      <td>437.0</td>\n",
       "      <td>1.0</td>\n",
       "      <td>4.0</td>\n",
       "      <td>14.0</td>\n",
       "      <td>NaN</td>\n",
       "      <td>1.0</td>\n",
       "      <td>0.0</td>\n",
       "      <td>6.0</td>\n",
       "      <td>5a9ed9b0</td>\n",
       "      <td>a0e12995</td>\n",
       "      <td>a1e14474</td>\n",
       "      <td>08a40877</td>\n",
       "      <td>25c83c98</td>\n",
       "      <td>NaN</td>\n",
       "      <td>964d1fdd</td>\n",
       "      <td>5b392875</td>\n",
       "      <td>a73ee510</td>\n",
       "      <td>de89c3d2</td>\n",
       "      <td>59cd5ae7</td>\n",
       "      <td>8d98db20</td>\n",
       "      <td>8b216f7b</td>\n",
       "      <td>1adce6ef</td>\n",
       "      <td>78c64a1d</td>\n",
       "      <td>3ecdadf7</td>\n",
       "      <td>3486227d</td>\n",
       "      <td>1616f155</td>\n",
       "      <td>21ddcdc9</td>\n",
       "      <td>5840adea</td>\n",
       "      <td>2c277e62</td>\n",
       "      <td>NaN</td>\n",
       "      <td>423fab69</td>\n",
       "      <td>54c91918</td>\n",
       "      <td>9b3e8820</td>\n",
       "      <td>e75c9ae9</td>\n",
       "    </tr>\n",
       "    <tr>\n",
       "      <th>1</th>\n",
       "      <td>27.0</td>\n",
       "      <td>17</td>\n",
       "      <td>45.0</td>\n",
       "      <td>28.0</td>\n",
       "      <td>2.0</td>\n",
       "      <td>28.0</td>\n",
       "      <td>27.0</td>\n",
       "      <td>29.0</td>\n",
       "      <td>28.0</td>\n",
       "      <td>1.0</td>\n",
       "      <td>1.0</td>\n",
       "      <td>NaN</td>\n",
       "      <td>23.0</td>\n",
       "      <td>68fd1e64</td>\n",
       "      <td>960c983b</td>\n",
       "      <td>9fbfbfd5</td>\n",
       "      <td>38c11726</td>\n",
       "      <td>25c83c98</td>\n",
       "      <td>7e0ccccf</td>\n",
       "      <td>fe06fd10</td>\n",
       "      <td>062b5529</td>\n",
       "      <td>a73ee510</td>\n",
       "      <td>ca53fc84</td>\n",
       "      <td>67360210</td>\n",
       "      <td>895d8bbb</td>\n",
       "      <td>4f8e2224</td>\n",
       "      <td>f862f261</td>\n",
       "      <td>b4cc2435</td>\n",
       "      <td>4c0041e5</td>\n",
       "      <td>e5ba7672</td>\n",
       "      <td>b4abdd09</td>\n",
       "      <td>21ddcdc9</td>\n",
       "      <td>5840adea</td>\n",
       "      <td>36a7ab86</td>\n",
       "      <td>NaN</td>\n",
       "      <td>32c7478e</td>\n",
       "      <td>85e4d73f</td>\n",
       "      <td>010f6491</td>\n",
       "      <td>ee63dd9b</td>\n",
       "    </tr>\n",
       "    <tr>\n",
       "      <th>2</th>\n",
       "      <td>1.0</td>\n",
       "      <td>1</td>\n",
       "      <td>19.0</td>\n",
       "      <td>7.0</td>\n",
       "      <td>1.0</td>\n",
       "      <td>3.0</td>\n",
       "      <td>1.0</td>\n",
       "      <td>7.0</td>\n",
       "      <td>7.0</td>\n",
       "      <td>1.0</td>\n",
       "      <td>1.0</td>\n",
       "      <td>NaN</td>\n",
       "      <td>2.0</td>\n",
       "      <td>09ca0b81</td>\n",
       "      <td>8947f767</td>\n",
       "      <td>a87e61f7</td>\n",
       "      <td>c4ba2a67</td>\n",
       "      <td>25c83c98</td>\n",
       "      <td>7e0ccccf</td>\n",
       "      <td>ce6020cc</td>\n",
       "      <td>062b5529</td>\n",
       "      <td>a73ee510</td>\n",
       "      <td>b04d3cfe</td>\n",
       "      <td>70dcd184</td>\n",
       "      <td>899eb56b</td>\n",
       "      <td>aca22cf9</td>\n",
       "      <td>b28479f6</td>\n",
       "      <td>a473257f</td>\n",
       "      <td>88f592e4</td>\n",
       "      <td>d4bb7bd8</td>\n",
       "      <td>bd17c3da</td>\n",
       "      <td>1d04f4a4</td>\n",
       "      <td>a458ea53</td>\n",
       "      <td>82bdc0bb</td>\n",
       "      <td>NaN</td>\n",
       "      <td>32c7478e</td>\n",
       "      <td>5bdcd9c4</td>\n",
       "      <td>010f6491</td>\n",
       "      <td>cca57dcc</td>\n",
       "    </tr>\n",
       "    <tr>\n",
       "      <th>3</th>\n",
       "      <td>4.0</td>\n",
       "      <td>1</td>\n",
       "      <td>NaN</td>\n",
       "      <td>6.0</td>\n",
       "      <td>1051.0</td>\n",
       "      <td>134.0</td>\n",
       "      <td>4.0</td>\n",
       "      <td>35.0</td>\n",
       "      <td>72.0</td>\n",
       "      <td>1.0</td>\n",
       "      <td>1.0</td>\n",
       "      <td>NaN</td>\n",
       "      <td>6.0</td>\n",
       "      <td>05db9164</td>\n",
       "      <td>532da141</td>\n",
       "      <td>a7ded28e</td>\n",
       "      <td>456b4d8c</td>\n",
       "      <td>25c83c98</td>\n",
       "      <td>fbad5c96</td>\n",
       "      <td>5f29da0e</td>\n",
       "      <td>0b153874</td>\n",
       "      <td>a73ee510</td>\n",
       "      <td>4b344a42</td>\n",
       "      <td>0ad37b4b</td>\n",
       "      <td>8ea37200</td>\n",
       "      <td>f9d99d81</td>\n",
       "      <td>cfef1c29</td>\n",
       "      <td>abd8f51e</td>\n",
       "      <td>9a9902d0</td>\n",
       "      <td>07c540c4</td>\n",
       "      <td>bdc06043</td>\n",
       "      <td>NaN</td>\n",
       "      <td>NaN</td>\n",
       "      <td>6dfd157c</td>\n",
       "      <td>ad3062eb</td>\n",
       "      <td>423fab69</td>\n",
       "      <td>ef089725</td>\n",
       "      <td>NaN</td>\n",
       "      <td>NaN</td>\n",
       "    </tr>\n",
       "    <tr>\n",
       "      <th>4</th>\n",
       "      <td>7.0</td>\n",
       "      <td>1</td>\n",
       "      <td>25.0</td>\n",
       "      <td>10.0</td>\n",
       "      <td>139.0</td>\n",
       "      <td>74.0</td>\n",
       "      <td>48.0</td>\n",
       "      <td>13.0</td>\n",
       "      <td>44.0</td>\n",
       "      <td>1.0</td>\n",
       "      <td>8.0</td>\n",
       "      <td>2.0</td>\n",
       "      <td>12.0</td>\n",
       "      <td>05db9164</td>\n",
       "      <td>207b2d81</td>\n",
       "      <td>2b280564</td>\n",
       "      <td>ad5ffc6b</td>\n",
       "      <td>25c83c98</td>\n",
       "      <td>7e0ccccf</td>\n",
       "      <td>103c17bc</td>\n",
       "      <td>0b153874</td>\n",
       "      <td>a73ee510</td>\n",
       "      <td>8e54038a</td>\n",
       "      <td>e6e0c2dc</td>\n",
       "      <td>2a064dba</td>\n",
       "      <td>e9332a03</td>\n",
       "      <td>07d13a8f</td>\n",
       "      <td>0c67c4ca</td>\n",
       "      <td>7d9b60c8</td>\n",
       "      <td>27c07bd6</td>\n",
       "      <td>395856b0</td>\n",
       "      <td>21ddcdc9</td>\n",
       "      <td>a458ea53</td>\n",
       "      <td>9c3eb598</td>\n",
       "      <td>ad3062eb</td>\n",
       "      <td>3a171ecb</td>\n",
       "      <td>c0b8dfd6</td>\n",
       "      <td>001f3601</td>\n",
       "      <td>7a2fb9af</td>\n",
       "    </tr>\n",
       "  </tbody>\n",
       "</table>\n",
       "</div>"
      ],
      "text/plain": [
       "   interger1  interger2  interger3  interger4  interger5  interger6  \\\n",
       "0        NaN         29       50.0        5.0     7260.0      437.0   \n",
       "1       27.0         17       45.0       28.0        2.0       28.0   \n",
       "2        1.0          1       19.0        7.0        1.0        3.0   \n",
       "3        4.0          1        NaN        6.0     1051.0      134.0   \n",
       "4        7.0          1       25.0       10.0      139.0       74.0   \n",
       "\n",
       "   interger7  interger8  interger9  interger10  interger11  interger12  \\\n",
       "0        1.0        4.0       14.0         NaN         1.0         0.0   \n",
       "1       27.0       29.0       28.0         1.0         1.0         NaN   \n",
       "2        1.0        7.0        7.0         1.0         1.0         NaN   \n",
       "3        4.0       35.0       72.0         1.0         1.0         NaN   \n",
       "4       48.0       13.0       44.0         1.0         8.0         2.0   \n",
       "\n",
       "   interger13 categorical1 categorical2 categorical3 categorical4  \\\n",
       "0         6.0     5a9ed9b0     a0e12995     a1e14474     08a40877   \n",
       "1        23.0     68fd1e64     960c983b     9fbfbfd5     38c11726   \n",
       "2         2.0     09ca0b81     8947f767     a87e61f7     c4ba2a67   \n",
       "3         6.0     05db9164     532da141     a7ded28e     456b4d8c   \n",
       "4        12.0     05db9164     207b2d81     2b280564     ad5ffc6b   \n",
       "\n",
       "  categorical5 categorical6 categorical7 categorical8 categorical9  \\\n",
       "0     25c83c98          NaN     964d1fdd     5b392875     a73ee510   \n",
       "1     25c83c98     7e0ccccf     fe06fd10     062b5529     a73ee510   \n",
       "2     25c83c98     7e0ccccf     ce6020cc     062b5529     a73ee510   \n",
       "3     25c83c98     fbad5c96     5f29da0e     0b153874     a73ee510   \n",
       "4     25c83c98     7e0ccccf     103c17bc     0b153874     a73ee510   \n",
       "\n",
       "  categorical10 categorical11 categorical12 categorical13 categorical14  \\\n",
       "0      de89c3d2      59cd5ae7      8d98db20      8b216f7b      1adce6ef   \n",
       "1      ca53fc84      67360210      895d8bbb      4f8e2224      f862f261   \n",
       "2      b04d3cfe      70dcd184      899eb56b      aca22cf9      b28479f6   \n",
       "3      4b344a42      0ad37b4b      8ea37200      f9d99d81      cfef1c29   \n",
       "4      8e54038a      e6e0c2dc      2a064dba      e9332a03      07d13a8f   \n",
       "\n",
       "  categorical15 categorical16 categorical17 categorical18 categorical19  \\\n",
       "0      78c64a1d      3ecdadf7      3486227d      1616f155      21ddcdc9   \n",
       "1      b4cc2435      4c0041e5      e5ba7672      b4abdd09      21ddcdc9   \n",
       "2      a473257f      88f592e4      d4bb7bd8      bd17c3da      1d04f4a4   \n",
       "3      abd8f51e      9a9902d0      07c540c4      bdc06043           NaN   \n",
       "4      0c67c4ca      7d9b60c8      27c07bd6      395856b0      21ddcdc9   \n",
       "\n",
       "  categorical20 categorical21 categorical22 categorical23 categorical24  \\\n",
       "0      5840adea      2c277e62           NaN      423fab69      54c91918   \n",
       "1      5840adea      36a7ab86           NaN      32c7478e      85e4d73f   \n",
       "2      a458ea53      82bdc0bb           NaN      32c7478e      5bdcd9c4   \n",
       "3           NaN      6dfd157c      ad3062eb      423fab69      ef089725   \n",
       "4      a458ea53      9c3eb598      ad3062eb      3a171ecb      c0b8dfd6   \n",
       "\n",
       "  categorical25 categorical26  \n",
       "0      9b3e8820      e75c9ae9  \n",
       "1      010f6491      ee63dd9b  \n",
       "2      010f6491      cca57dcc  \n",
       "3           NaN           NaN  \n",
       "4      001f3601      7a2fb9af  "
      ]
     },
     "execution_count": 5,
     "metadata": {},
     "output_type": "execute_result"
    }
   ],
   "source": [
    "answer.head()"
   ]
  },
  {
   "cell_type": "code",
   "execution_count": 6,
   "metadata": {},
   "outputs": [
    {
     "data": {
      "text/html": [
       "<div>\n",
       "<style scoped>\n",
       "    .dataframe tbody tr th:only-of-type {\n",
       "        vertical-align: middle;\n",
       "    }\n",
       "\n",
       "    .dataframe tbody tr th {\n",
       "        vertical-align: top;\n",
       "    }\n",
       "\n",
       "    .dataframe thead th {\n",
       "        text-align: right;\n",
       "    }\n",
       "</style>\n",
       "<table border=\"1\" class=\"dataframe\">\n",
       "  <thead>\n",
       "    <tr style=\"text-align: right;\">\n",
       "      <th></th>\n",
       "      <th>label</th>\n",
       "      <th>interger1</th>\n",
       "      <th>interger2</th>\n",
       "      <th>interger3</th>\n",
       "      <th>interger4</th>\n",
       "      <th>interger5</th>\n",
       "      <th>interger6</th>\n",
       "      <th>interger7</th>\n",
       "      <th>interger8</th>\n",
       "      <th>interger9</th>\n",
       "      <th>interger10</th>\n",
       "      <th>interger11</th>\n",
       "      <th>interger12</th>\n",
       "      <th>interger13</th>\n",
       "      <th>categorical1</th>\n",
       "      <th>categorical2</th>\n",
       "      <th>categorical3</th>\n",
       "      <th>categorical4</th>\n",
       "      <th>categorical5</th>\n",
       "      <th>categorical6</th>\n",
       "      <th>categorical7</th>\n",
       "      <th>categorical8</th>\n",
       "      <th>categorical9</th>\n",
       "      <th>categorical10</th>\n",
       "      <th>categorical11</th>\n",
       "      <th>categorical12</th>\n",
       "      <th>categorical13</th>\n",
       "      <th>categorical14</th>\n",
       "      <th>categorical15</th>\n",
       "      <th>categorical16</th>\n",
       "      <th>categorical17</th>\n",
       "      <th>categorical18</th>\n",
       "      <th>categorical19</th>\n",
       "      <th>categorical20</th>\n",
       "      <th>categorical21</th>\n",
       "      <th>categorical22</th>\n",
       "      <th>categorical23</th>\n",
       "      <th>categorical24</th>\n",
       "      <th>categorical25</th>\n",
       "      <th>categorical26</th>\n",
       "    </tr>\n",
       "  </thead>\n",
       "  <tbody>\n",
       "    <tr>\n",
       "      <th>0</th>\n",
       "      <td>0</td>\n",
       "      <td>1.0</td>\n",
       "      <td>1</td>\n",
       "      <td>5.0</td>\n",
       "      <td>0.0</td>\n",
       "      <td>1382.0</td>\n",
       "      <td>4.0</td>\n",
       "      <td>15.0</td>\n",
       "      <td>2.0</td>\n",
       "      <td>181.0</td>\n",
       "      <td>1.0</td>\n",
       "      <td>2.0</td>\n",
       "      <td>NaN</td>\n",
       "      <td>2.0</td>\n",
       "      <td>68fd1e64</td>\n",
       "      <td>80e26c9b</td>\n",
       "      <td>fb936136</td>\n",
       "      <td>7b4723c4</td>\n",
       "      <td>25c83c98</td>\n",
       "      <td>7e0ccccf</td>\n",
       "      <td>de7995b8</td>\n",
       "      <td>1f89b562</td>\n",
       "      <td>a73ee510</td>\n",
       "      <td>a8cd5504</td>\n",
       "      <td>b2cb9c98</td>\n",
       "      <td>37c9c164</td>\n",
       "      <td>2824a5f6</td>\n",
       "      <td>1adce6ef</td>\n",
       "      <td>8ba8b39a</td>\n",
       "      <td>891b62e7</td>\n",
       "      <td>e5ba7672</td>\n",
       "      <td>f54016b9</td>\n",
       "      <td>21ddcdc9</td>\n",
       "      <td>b1252a9d</td>\n",
       "      <td>07b5194c</td>\n",
       "      <td>NaN</td>\n",
       "      <td>3a171ecb</td>\n",
       "      <td>c5c50484</td>\n",
       "      <td>e8b83407</td>\n",
       "      <td>9727dd16</td>\n",
       "    </tr>\n",
       "    <tr>\n",
       "      <th>1</th>\n",
       "      <td>0</td>\n",
       "      <td>2.0</td>\n",
       "      <td>0</td>\n",
       "      <td>44.0</td>\n",
       "      <td>1.0</td>\n",
       "      <td>102.0</td>\n",
       "      <td>8.0</td>\n",
       "      <td>2.0</td>\n",
       "      <td>2.0</td>\n",
       "      <td>4.0</td>\n",
       "      <td>1.0</td>\n",
       "      <td>1.0</td>\n",
       "      <td>NaN</td>\n",
       "      <td>4.0</td>\n",
       "      <td>68fd1e64</td>\n",
       "      <td>f0cf0024</td>\n",
       "      <td>6f67f7e5</td>\n",
       "      <td>41274cd7</td>\n",
       "      <td>25c83c98</td>\n",
       "      <td>fe6b92e5</td>\n",
       "      <td>922afcc0</td>\n",
       "      <td>0b153874</td>\n",
       "      <td>a73ee510</td>\n",
       "      <td>2b53e5fb</td>\n",
       "      <td>4f1b46f3</td>\n",
       "      <td>623049e6</td>\n",
       "      <td>d7020589</td>\n",
       "      <td>b28479f6</td>\n",
       "      <td>e6c5b5cd</td>\n",
       "      <td>c92f3b61</td>\n",
       "      <td>07c540c4</td>\n",
       "      <td>b04e4670</td>\n",
       "      <td>21ddcdc9</td>\n",
       "      <td>5840adea</td>\n",
       "      <td>60f6221e</td>\n",
       "      <td>NaN</td>\n",
       "      <td>3a171ecb</td>\n",
       "      <td>43f13e8b</td>\n",
       "      <td>e8b83407</td>\n",
       "      <td>731c3655</td>\n",
       "    </tr>\n",
       "    <tr>\n",
       "      <th>2</th>\n",
       "      <td>0</td>\n",
       "      <td>2.0</td>\n",
       "      <td>0</td>\n",
       "      <td>1.0</td>\n",
       "      <td>14.0</td>\n",
       "      <td>767.0</td>\n",
       "      <td>89.0</td>\n",
       "      <td>4.0</td>\n",
       "      <td>2.0</td>\n",
       "      <td>245.0</td>\n",
       "      <td>1.0</td>\n",
       "      <td>3.0</td>\n",
       "      <td>3.0</td>\n",
       "      <td>45.0</td>\n",
       "      <td>287e684f</td>\n",
       "      <td>0a519c5c</td>\n",
       "      <td>02cf9876</td>\n",
       "      <td>c18be181</td>\n",
       "      <td>25c83c98</td>\n",
       "      <td>7e0ccccf</td>\n",
       "      <td>c78204a1</td>\n",
       "      <td>0b153874</td>\n",
       "      <td>a73ee510</td>\n",
       "      <td>3b08e48b</td>\n",
       "      <td>5f5e6091</td>\n",
       "      <td>8fe001f4</td>\n",
       "      <td>aa655a2f</td>\n",
       "      <td>07d13a8f</td>\n",
       "      <td>6dc710ed</td>\n",
       "      <td>36103458</td>\n",
       "      <td>8efede7f</td>\n",
       "      <td>3412118d</td>\n",
       "      <td>NaN</td>\n",
       "      <td>NaN</td>\n",
       "      <td>e587c466</td>\n",
       "      <td>ad3062eb</td>\n",
       "      <td>3a171ecb</td>\n",
       "      <td>3b183c5c</td>\n",
       "      <td>NaN</td>\n",
       "      <td>NaN</td>\n",
       "    </tr>\n",
       "    <tr>\n",
       "      <th>3</th>\n",
       "      <td>0</td>\n",
       "      <td>NaN</td>\n",
       "      <td>893</td>\n",
       "      <td>NaN</td>\n",
       "      <td>NaN</td>\n",
       "      <td>4392.0</td>\n",
       "      <td>NaN</td>\n",
       "      <td>0.0</td>\n",
       "      <td>0.0</td>\n",
       "      <td>0.0</td>\n",
       "      <td>NaN</td>\n",
       "      <td>0.0</td>\n",
       "      <td>NaN</td>\n",
       "      <td>NaN</td>\n",
       "      <td>68fd1e64</td>\n",
       "      <td>2c16a946</td>\n",
       "      <td>a9a87e68</td>\n",
       "      <td>2e17d6f6</td>\n",
       "      <td>25c83c98</td>\n",
       "      <td>fe6b92e5</td>\n",
       "      <td>2e8a689b</td>\n",
       "      <td>0b153874</td>\n",
       "      <td>a73ee510</td>\n",
       "      <td>efea433b</td>\n",
       "      <td>e51ddf94</td>\n",
       "      <td>a30567ca</td>\n",
       "      <td>3516f6e6</td>\n",
       "      <td>07d13a8f</td>\n",
       "      <td>18231224</td>\n",
       "      <td>52b8680f</td>\n",
       "      <td>1e88c74f</td>\n",
       "      <td>74ef3502</td>\n",
       "      <td>NaN</td>\n",
       "      <td>NaN</td>\n",
       "      <td>6b3a5ca6</td>\n",
       "      <td>NaN</td>\n",
       "      <td>3a171ecb</td>\n",
       "      <td>9117a34a</td>\n",
       "      <td>NaN</td>\n",
       "      <td>NaN</td>\n",
       "    </tr>\n",
       "    <tr>\n",
       "      <th>4</th>\n",
       "      <td>0</td>\n",
       "      <td>3.0</td>\n",
       "      <td>-1</td>\n",
       "      <td>NaN</td>\n",
       "      <td>0.0</td>\n",
       "      <td>2.0</td>\n",
       "      <td>0.0</td>\n",
       "      <td>3.0</td>\n",
       "      <td>0.0</td>\n",
       "      <td>0.0</td>\n",
       "      <td>1.0</td>\n",
       "      <td>1.0</td>\n",
       "      <td>NaN</td>\n",
       "      <td>0.0</td>\n",
       "      <td>8cf07265</td>\n",
       "      <td>ae46a29d</td>\n",
       "      <td>c81688bb</td>\n",
       "      <td>f922efad</td>\n",
       "      <td>25c83c98</td>\n",
       "      <td>13718bbd</td>\n",
       "      <td>ad9fa255</td>\n",
       "      <td>0b153874</td>\n",
       "      <td>a73ee510</td>\n",
       "      <td>5282c137</td>\n",
       "      <td>e5d8af57</td>\n",
       "      <td>66a76a26</td>\n",
       "      <td>f06c53ac</td>\n",
       "      <td>1adce6ef</td>\n",
       "      <td>8ff4b403</td>\n",
       "      <td>01adbab4</td>\n",
       "      <td>1e88c74f</td>\n",
       "      <td>26b3c7a7</td>\n",
       "      <td>NaN</td>\n",
       "      <td>NaN</td>\n",
       "      <td>21c9516a</td>\n",
       "      <td>NaN</td>\n",
       "      <td>32c7478e</td>\n",
       "      <td>b34f3128</td>\n",
       "      <td>NaN</td>\n",
       "      <td>NaN</td>\n",
       "    </tr>\n",
       "  </tbody>\n",
       "</table>\n",
       "</div>"
      ],
      "text/plain": [
       "   label  interger1  interger2  interger3  interger4  interger5  interger6  \\\n",
       "0      0        1.0          1        5.0        0.0     1382.0        4.0   \n",
       "1      0        2.0          0       44.0        1.0      102.0        8.0   \n",
       "2      0        2.0          0        1.0       14.0      767.0       89.0   \n",
       "3      0        NaN        893        NaN        NaN     4392.0        NaN   \n",
       "4      0        3.0         -1        NaN        0.0        2.0        0.0   \n",
       "\n",
       "   interger7  interger8  interger9  interger10  interger11  interger12  \\\n",
       "0       15.0        2.0      181.0         1.0         2.0         NaN   \n",
       "1        2.0        2.0        4.0         1.0         1.0         NaN   \n",
       "2        4.0        2.0      245.0         1.0         3.0         3.0   \n",
       "3        0.0        0.0        0.0         NaN         0.0         NaN   \n",
       "4        3.0        0.0        0.0         1.0         1.0         NaN   \n",
       "\n",
       "   interger13 categorical1 categorical2 categorical3 categorical4  \\\n",
       "0         2.0     68fd1e64     80e26c9b     fb936136     7b4723c4   \n",
       "1         4.0     68fd1e64     f0cf0024     6f67f7e5     41274cd7   \n",
       "2        45.0     287e684f     0a519c5c     02cf9876     c18be181   \n",
       "3         NaN     68fd1e64     2c16a946     a9a87e68     2e17d6f6   \n",
       "4         0.0     8cf07265     ae46a29d     c81688bb     f922efad   \n",
       "\n",
       "  categorical5 categorical6 categorical7 categorical8 categorical9  \\\n",
       "0     25c83c98     7e0ccccf     de7995b8     1f89b562     a73ee510   \n",
       "1     25c83c98     fe6b92e5     922afcc0     0b153874     a73ee510   \n",
       "2     25c83c98     7e0ccccf     c78204a1     0b153874     a73ee510   \n",
       "3     25c83c98     fe6b92e5     2e8a689b     0b153874     a73ee510   \n",
       "4     25c83c98     13718bbd     ad9fa255     0b153874     a73ee510   \n",
       "\n",
       "  categorical10 categorical11 categorical12 categorical13 categorical14  \\\n",
       "0      a8cd5504      b2cb9c98      37c9c164      2824a5f6      1adce6ef   \n",
       "1      2b53e5fb      4f1b46f3      623049e6      d7020589      b28479f6   \n",
       "2      3b08e48b      5f5e6091      8fe001f4      aa655a2f      07d13a8f   \n",
       "3      efea433b      e51ddf94      a30567ca      3516f6e6      07d13a8f   \n",
       "4      5282c137      e5d8af57      66a76a26      f06c53ac      1adce6ef   \n",
       "\n",
       "  categorical15 categorical16 categorical17 categorical18 categorical19  \\\n",
       "0      8ba8b39a      891b62e7      e5ba7672      f54016b9      21ddcdc9   \n",
       "1      e6c5b5cd      c92f3b61      07c540c4      b04e4670      21ddcdc9   \n",
       "2      6dc710ed      36103458      8efede7f      3412118d           NaN   \n",
       "3      18231224      52b8680f      1e88c74f      74ef3502           NaN   \n",
       "4      8ff4b403      01adbab4      1e88c74f      26b3c7a7           NaN   \n",
       "\n",
       "  categorical20 categorical21 categorical22 categorical23 categorical24  \\\n",
       "0      b1252a9d      07b5194c           NaN      3a171ecb      c5c50484   \n",
       "1      5840adea      60f6221e           NaN      3a171ecb      43f13e8b   \n",
       "2           NaN      e587c466      ad3062eb      3a171ecb      3b183c5c   \n",
       "3           NaN      6b3a5ca6           NaN      3a171ecb      9117a34a   \n",
       "4           NaN      21c9516a           NaN      32c7478e      b34f3128   \n",
       "\n",
       "  categorical25 categorical26  \n",
       "0      e8b83407      9727dd16  \n",
       "1      e8b83407      731c3655  \n",
       "2           NaN           NaN  \n",
       "3           NaN           NaN  \n",
       "4           NaN           NaN  "
      ]
     },
     "execution_count": 6,
     "metadata": {},
     "output_type": "execute_result"
    }
   ],
   "source": [
    "df.head()"
   ]
  },
  {
   "cell_type": "markdown",
   "metadata": {},
   "source": [
    "Now we will verify the dataset shape with the dataset description"
   ]
  },
  {
   "cell_type": "code",
   "execution_count": 7,
   "metadata": {},
   "outputs": [
    {
     "data": {
      "text/plain": [
       "40"
      ]
     },
     "execution_count": 7,
     "metadata": {},
     "output_type": "execute_result"
    }
   ],
   "source": [
    "len(df.columns)"
   ]
  },
  {
   "cell_type": "code",
   "execution_count": 8,
   "metadata": {},
   "outputs": [
    {
     "data": {
      "text/plain": [
       "39"
      ]
     },
     "execution_count": 8,
     "metadata": {},
     "output_type": "execute_result"
    }
   ],
   "source": [
    "len(answer.columns)"
   ]
  },
  {
   "cell_type": "code",
   "execution_count": 9,
   "metadata": {},
   "outputs": [
    {
     "data": {
      "text/plain": [
       "Index(['label', 'interger1', 'interger2', 'interger3', 'interger4',\n",
       "       'interger5', 'interger6', 'interger7', 'interger8', 'interger9',\n",
       "       'interger10', 'interger11', 'interger12', 'interger13', 'categorical1',\n",
       "       'categorical2', 'categorical3', 'categorical4', 'categorical5',\n",
       "       'categorical6', 'categorical7', 'categorical8', 'categorical9',\n",
       "       'categorical10', 'categorical11', 'categorical12', 'categorical13',\n",
       "       'categorical14', 'categorical15', 'categorical16', 'categorical17',\n",
       "       'categorical18', 'categorical19', 'categorical20', 'categorical21',\n",
       "       'categorical22', 'categorical23', 'categorical24', 'categorical25',\n",
       "       'categorical26'],\n",
       "      dtype='object')"
      ]
     },
     "execution_count": 9,
     "metadata": {},
     "output_type": "execute_result"
    }
   ],
   "source": [
    "df.columns"
   ]
  },
  {
   "cell_type": "code",
   "execution_count": 10,
   "metadata": {},
   "outputs": [
    {
     "data": {
      "text/plain": [
       "label\n",
       "0    2.923491\n",
       "1    4.771242\n",
       "Name: interger1, dtype: float64"
      ]
     },
     "execution_count": 10,
     "metadata": {},
     "output_type": "execute_result"
    }
   ],
   "source": [
    "df.groupby(df.label).interger1.mean().compute()"
   ]
  },
  {
   "cell_type": "code",
   "execution_count": 11,
   "metadata": {},
   "outputs": [
    {
     "data": {
      "text/html": [
       "<div>\n",
       "<style scoped>\n",
       "    .dataframe tbody tr th:only-of-type {\n",
       "        vertical-align: middle;\n",
       "    }\n",
       "\n",
       "    .dataframe tbody tr th {\n",
       "        vertical-align: top;\n",
       "    }\n",
       "\n",
       "    .dataframe thead th {\n",
       "        text-align: right;\n",
       "    }\n",
       "</style>\n",
       "<table border=\"1\" class=\"dataframe\">\n",
       "  <thead>\n",
       "    <tr style=\"text-align: right;\">\n",
       "      <th></th>\n",
       "      <th>interger1</th>\n",
       "      <th>interger2</th>\n",
       "      <th>interger3</th>\n",
       "      <th>interger4</th>\n",
       "      <th>interger5</th>\n",
       "      <th>interger6</th>\n",
       "      <th>interger7</th>\n",
       "      <th>interger8</th>\n",
       "      <th>interger9</th>\n",
       "      <th>interger10</th>\n",
       "      <th>interger11</th>\n",
       "      <th>interger12</th>\n",
       "      <th>interger13</th>\n",
       "    </tr>\n",
       "    <tr>\n",
       "      <th>label</th>\n",
       "      <th></th>\n",
       "      <th></th>\n",
       "      <th></th>\n",
       "      <th></th>\n",
       "      <th></th>\n",
       "      <th></th>\n",
       "      <th></th>\n",
       "      <th></th>\n",
       "      <th></th>\n",
       "      <th></th>\n",
       "      <th></th>\n",
       "      <th></th>\n",
       "      <th></th>\n",
       "    </tr>\n",
       "  </thead>\n",
       "  <tbody>\n",
       "    <tr>\n",
       "      <th>0</th>\n",
       "      <td>2.923491</td>\n",
       "      <td>95.639159</td>\n",
       "      <td>23.892997</td>\n",
       "      <td>7.598287</td>\n",
       "      <td>21823.780867</td>\n",
       "      <td>137.242745</td>\n",
       "      <td>13.043355</td>\n",
       "      <td>12.787176</td>\n",
       "      <td>103.624690</td>\n",
       "      <td>0.536868</td>\n",
       "      <td>2.251343</td>\n",
       "      <td>0.679853</td>\n",
       "      <td>8.965261</td>\n",
       "    </tr>\n",
       "    <tr>\n",
       "      <th>1</th>\n",
       "      <td>4.771242</td>\n",
       "      <td>135.484315</td>\n",
       "      <td>36.351106</td>\n",
       "      <td>6.491826</td>\n",
       "      <td>9210.846171</td>\n",
       "      <td>64.987834</td>\n",
       "      <td>25.631532</td>\n",
       "      <td>11.733193</td>\n",
       "      <td>113.133942</td>\n",
       "      <td>0.794316</td>\n",
       "      <td>4.093748</td>\n",
       "      <td>1.759554</td>\n",
       "      <td>5.963113</td>\n",
       "    </tr>\n",
       "  </tbody>\n",
       "</table>\n",
       "</div>"
      ],
      "text/plain": [
       "       interger1   interger2  interger3  interger4     interger5   interger6  \\\n",
       "label                                                                          \n",
       "0       2.923491   95.639159  23.892997   7.598287  21823.780867  137.242745   \n",
       "1       4.771242  135.484315  36.351106   6.491826   9210.846171   64.987834   \n",
       "\n",
       "       interger7  interger8   interger9  interger10  interger11  interger12  \\\n",
       "label                                                                         \n",
       "0      13.043355  12.787176  103.624690    0.536868    2.251343    0.679853   \n",
       "1      25.631532  11.733193  113.133942    0.794316    4.093748    1.759554   \n",
       "\n",
       "       interger13  \n",
       "label              \n",
       "0        8.965261  \n",
       "1        5.963113  "
      ]
     },
     "execution_count": 11,
     "metadata": {},
     "output_type": "execute_result"
    }
   ],
   "source": [
    "df.groupby(df.label)['interger1', 'interger2', 'interger3', 'interger4',\n",
    "       'interger5', 'interger6', 'interger7', 'interger8', 'interger9',\n",
    "       'interger10', 'interger11', 'interger12', 'interger13'].mean().compute()"
   ]
  },
  {
   "cell_type": "markdown",
   "metadata": {},
   "source": [
    "## Null verification\n"
   ]
  },
  {
   "cell_type": "markdown",
   "metadata": {},
   "source": [
    "Since the dataset is full of nulls we will check them"
   ]
  },
  {
   "cell_type": "code",
   "execution_count": 12,
   "metadata": {},
   "outputs": [
    {
     "data": {
      "text/plain": [
       "label            0.000000\n",
       "categorical11    0.000000\n",
       "categorical10    0.000000\n",
       "categorical9     0.000000\n",
       "categorical8     0.000000\n",
       "categorical7     0.000000\n",
       "categorical14    0.000000\n",
       "categorical5     0.000000\n",
       "categorical2     0.000000\n",
       "categorical1     0.000000\n",
       "categorical15    0.000000\n",
       "categorical18    0.000000\n",
       "categorical23    0.000000\n",
       "interger2        0.000000\n",
       "categorical17    0.000000\n",
       "categorical13    0.000000\n",
       "interger8        0.000497\n",
       "interger5        0.025809\n",
       "categorical16    0.034019\n",
       "categorical12    0.034019\n",
       "categorical3     0.034019\n",
       "categorical4     0.034019\n",
       "categorical21    0.034019\n",
       "categorical24    0.034019\n",
       "interger11       0.043256\n",
       "interger9        0.043256\n",
       "interger7        0.043256\n",
       "categorical6     0.120867\n",
       "interger3        0.214645\n",
       "interger13       0.216781\n",
       "interger4        0.216781\n",
       "interger6        0.223652\n",
       "categorical19    0.440065\n",
       "categorical20    0.440065\n",
       "categorical25    0.440065\n",
       "categorical26    0.440065\n",
       "interger10       0.453606\n",
       "interger1        0.453606\n",
       "categorical22    0.762535\n",
       "interger12       0.765078\n",
       "dtype: float64"
      ]
     },
     "execution_count": 12,
     "metadata": {},
     "output_type": "execute_result"
    }
   ],
   "source": [
    "df.isnull().mean().compute().sort_values()"
   ]
  },
  {
   "cell_type": "markdown",
   "metadata": {},
   "source": [
    "## Categories levels"
   ]
  },
  {
   "cell_type": "markdown",
   "metadata": {},
   "source": [
    "Let's verify how many levels each category has"
   ]
  },
  {
   "cell_type": "code",
   "execution_count": 13,
   "metadata": {},
   "outputs": [
    {
     "data": {
      "text/plain": [
       "5683"
      ]
     },
     "execution_count": 13,
     "metadata": {},
     "output_type": "execute_result"
    }
   ],
   "source": [
    "len(df.categorical11.value_counts().compute())"
   ]
  },
  {
   "cell_type": "markdown",
   "metadata": {},
   "source": [
    "Variable 11 that has the lower amount of nulls has 5683 categories :O"
   ]
  },
  {
   "cell_type": "code",
   "execution_count": 14,
   "metadata": {},
   "outputs": [
    {
     "data": {
      "text/plain": [
       "93145"
      ]
     },
     "execution_count": 14,
     "metadata": {},
     "output_type": "execute_result"
    }
   ],
   "source": [
    "len(df.categorical10.value_counts().compute())"
   ]
  },
  {
   "cell_type": "code",
   "execution_count": 15,
   "metadata": {},
   "outputs": [
    {
     "data": {
      "text/plain": [
       "3"
      ]
     },
     "execution_count": 15,
     "metadata": {},
     "output_type": "execute_result"
    }
   ],
   "source": [
    "len(df.categorical9.value_counts().compute())"
   ]
  },
  {
   "cell_type": "code",
   "execution_count": 16,
   "metadata": {},
   "outputs": [
    {
     "data": {
      "text/plain": [
       "633"
      ]
     },
     "execution_count": 16,
     "metadata": {},
     "output_type": "execute_result"
    }
   ],
   "source": [
    "len(df.categorical8.value_counts().compute())"
   ]
  },
  {
   "cell_type": "code",
   "execution_count": 17,
   "metadata": {},
   "outputs": [
    {
     "data": {
      "text/plain": [
       "12517"
      ]
     },
     "execution_count": 17,
     "metadata": {},
     "output_type": "execute_result"
    }
   ],
   "source": [
    "len(df.categorical7.value_counts().compute())"
   ]
  },
  {
   "cell_type": "code",
   "execution_count": 18,
   "metadata": {},
   "outputs": [
    {
     "data": {
      "text/plain": [
       "27"
      ]
     },
     "execution_count": 18,
     "metadata": {},
     "output_type": "execute_result"
    }
   ],
   "source": [
    "len(df.categorical14.value_counts().compute())"
   ]
  },
  {
   "cell_type": "code",
   "execution_count": 19,
   "metadata": {},
   "outputs": [
    {
     "data": {
      "text/plain": [
       "305"
      ]
     },
     "execution_count": 19,
     "metadata": {},
     "output_type": "execute_result"
    }
   ],
   "source": [
    "len(df.categorical5.value_counts().compute())"
   ]
  },
  {
   "cell_type": "code",
   "execution_count": 20,
   "metadata": {},
   "outputs": [
    {
     "data": {
      "text/plain": [
       "583"
      ]
     },
     "execution_count": 20,
     "metadata": {},
     "output_type": "execute_result"
    }
   ],
   "source": [
    "len(df.categorical2.value_counts().compute())"
   ]
  },
  {
   "cell_type": "code",
   "execution_count": 21,
   "metadata": {},
   "outputs": [
    {
     "data": {
      "text/plain": [
       "1460"
      ]
     },
     "execution_count": 21,
     "metadata": {},
     "output_type": "execute_result"
    }
   ],
   "source": [
    "len(df.categorical1.value_counts().compute())"
   ]
  },
  {
   "cell_type": "code",
   "execution_count": 22,
   "metadata": {},
   "outputs": [
    {
     "data": {
      "text/plain": [
       "14992"
      ]
     },
     "execution_count": 22,
     "metadata": {},
     "output_type": "execute_result"
    }
   ],
   "source": [
    "len(df.categorical15.value_counts().compute())"
   ]
  },
  {
   "cell_type": "code",
   "execution_count": 23,
   "metadata": {},
   "outputs": [
    {
     "data": {
      "text/plain": [
       "5652"
      ]
     },
     "execution_count": 23,
     "metadata": {},
     "output_type": "execute_result"
    }
   ],
   "source": [
    "len(df.categorical18.value_counts().compute())"
   ]
  },
  {
   "cell_type": "code",
   "execution_count": 24,
   "metadata": {},
   "outputs": [
    {
     "data": {
      "text/plain": [
       "15"
      ]
     },
     "execution_count": 24,
     "metadata": {},
     "output_type": "execute_result"
    }
   ],
   "source": [
    "len(df.categorical23.value_counts().compute())"
   ]
  },
  {
   "cell_type": "code",
   "execution_count": 25,
   "metadata": {},
   "outputs": [
    {
     "data": {
      "text/plain": [
       "10"
      ]
     },
     "execution_count": 25,
     "metadata": {},
     "output_type": "execute_result"
    }
   ],
   "source": [
    "len(df.categorical17.value_counts().compute())"
   ]
  },
  {
   "cell_type": "code",
   "execution_count": 26,
   "metadata": {},
   "outputs": [
    {
     "data": {
      "text/plain": [
       "3194"
      ]
     },
     "execution_count": 26,
     "metadata": {},
     "output_type": "execute_result"
    }
   ],
   "source": [
    "len(df.categorical13.value_counts().compute())"
   ]
  },
  {
   "cell_type": "code",
   "execution_count": 27,
   "metadata": {},
   "outputs": [
    {
     "data": {
      "text/plain": [
       "5461305"
      ]
     },
     "execution_count": 27,
     "metadata": {},
     "output_type": "execute_result"
    }
   ],
   "source": [
    "len(df.categorical16.value_counts().compute())"
   ]
  },
  {
   "cell_type": "code",
   "execution_count": 28,
   "metadata": {},
   "outputs": [
    {
     "data": {
      "text/plain": [
       "8351592"
      ]
     },
     "execution_count": 28,
     "metadata": {},
     "output_type": "execute_result"
    }
   ],
   "source": [
    "len(df.categorical12.value_counts().compute())"
   ]
  },
  {
   "cell_type": "code",
   "execution_count": 29,
   "metadata": {},
   "outputs": [
    {
     "data": {
      "text/plain": [
       "10131226"
      ]
     },
     "execution_count": 29,
     "metadata": {},
     "output_type": "execute_result"
    }
   ],
   "source": [
    "len(df.categorical3.value_counts().compute())"
   ]
  },
  {
   "cell_type": "code",
   "execution_count": 30,
   "metadata": {},
   "outputs": [
    {
     "data": {
      "text/plain": [
       "2202607"
      ]
     },
     "execution_count": 30,
     "metadata": {},
     "output_type": "execute_result"
    }
   ],
   "source": [
    "len(df.categorical4.value_counts().compute())"
   ]
  },
  {
   "cell_type": "code",
   "execution_count": 31,
   "metadata": {},
   "outputs": [
    {
     "data": {
      "text/plain": [
       "7046546"
      ]
     },
     "execution_count": 31,
     "metadata": {},
     "output_type": "execute_result"
    }
   ],
   "source": [
    "len(df.categorical21.value_counts().compute())"
   ]
  },
  {
   "cell_type": "code",
   "execution_count": 32,
   "metadata": {},
   "outputs": [
    {
     "data": {
      "text/plain": [
       "286180"
      ]
     },
     "execution_count": 32,
     "metadata": {},
     "output_type": "execute_result"
    }
   ],
   "source": [
    "len(df.categorical24.value_counts().compute())"
   ]
  },
  {
   "cell_type": "code",
   "execution_count": 33,
   "metadata": {},
   "outputs": [
    {
     "data": {
      "text/plain": [
       "23"
      ]
     },
     "execution_count": 33,
     "metadata": {},
     "output_type": "execute_result"
    }
   ],
   "source": [
    "len(df.categorical6.value_counts().compute())"
   ]
  },
  {
   "cell_type": "code",
   "execution_count": 34,
   "metadata": {},
   "outputs": [
    {
     "data": {
      "text/plain": [
       "2172"
      ]
     },
     "execution_count": 34,
     "metadata": {},
     "output_type": "execute_result"
    }
   ],
   "source": [
    "len(df.categorical19.value_counts().compute())"
   ]
  },
  {
   "cell_type": "markdown",
   "metadata": {},
   "source": [
    "Integer variables"
   ]
  },
  {
   "cell_type": "code",
   "execution_count": 35,
   "metadata": {
    "collapsed": true
   },
   "outputs": [],
   "source": [
    "# plotar o describe das vars"
   ]
  },
  {
   "cell_type": "code",
   "execution_count": 36,
   "metadata": {},
   "outputs": [
    {
     "data": {
      "text/plain": [
       "count    4.584062e+07\n",
       "mean     1.058484e+02\n",
       "std      3.914578e+02\n",
       "min     -3.000000e+00\n",
       "25%      0.000000e+00\n",
       "50%      4.000000e+00\n",
       "75%      4.000000e+01\n",
       "max      2.576750e+05\n",
       "dtype: float64"
      ]
     },
     "execution_count": 36,
     "metadata": {},
     "output_type": "execute_result"
    }
   ],
   "source": [
    "df.interger2.describe().compute()"
   ]
  },
  {
   "cell_type": "code",
   "execution_count": 37,
   "metadata": {},
   "outputs": [
    {
     "data": {
      "text/plain": [
       "count    4.581784e+07\n",
       "mean     1.251704e+01\n",
       "std      1.668888e+01\n",
       "min      0.000000e+00\n",
       "25%      3.000000e+00\n",
       "50%      8.000000e+00\n",
       "75%      2.100000e+01\n",
       "max      6.047000e+03\n",
       "dtype: float64"
      ]
     },
     "execution_count": 37,
     "metadata": {},
     "output_type": "execute_result"
    }
   ],
   "source": [
    "df.interger8.describe().compute()"
   ]
  },
  {
   "cell_type": "code",
   "execution_count": 38,
   "metadata": {},
   "outputs": [
    {
     "data": {
      "text/plain": [
       "count    4.465750e+07\n",
       "mean     1.853899e+04\n",
       "std      6.939460e+04\n",
       "min      0.000000e+00\n",
       "25%      9.480000e+02\n",
       "50%      4.148000e+03\n",
       "75%      1.119800e+04\n",
       "max      2.315946e+07\n",
       "dtype: float64"
      ]
     },
     "execution_count": 38,
     "metadata": {},
     "output_type": "execute_result"
    }
   ],
   "source": [
    "df.interger5.describe().compute()"
   ]
  },
  {
   "cell_type": "code",
   "execution_count": 39,
   "metadata": {},
   "outputs": [
    {
     "data": {
      "text/plain": [
       "count    4.385775e+07\n",
       "mean     2.732834e+00\n",
       "std      5.199071e+00\n",
       "min      0.000000e+00\n",
       "25%      1.000000e+00\n",
       "50%      1.000000e+00\n",
       "75%      3.000000e+00\n",
       "max      2.310000e+02\n",
       "dtype: float64"
      ]
     },
     "execution_count": 39,
     "metadata": {},
     "output_type": "execute_result"
    }
   ],
   "source": [
    "df.interger11.describe().compute()"
   ]
  },
  {
   "cell_type": "code",
   "execution_count": 40,
   "metadata": {},
   "outputs": [
    {
     "data": {
      "text/plain": [
       "count    4.385775e+07\n",
       "mean     1.061098e+02\n",
       "std      2.202831e+02\n",
       "min      0.000000e+00\n",
       "25%      1.200000e+01\n",
       "50%      4.500000e+01\n",
       "75%      1.300000e+02\n",
       "max      2.901900e+04\n",
       "dtype: float64"
      ]
     },
     "execution_count": 40,
     "metadata": {},
     "output_type": "execute_result"
    }
   ],
   "source": [
    "df.interger9.describe().compute()"
   ]
  },
  {
   "cell_type": "code",
   "execution_count": 41,
   "metadata": {},
   "outputs": [
    {
     "data": {
      "text/plain": [
       "count    4.385775e+07\n",
       "mean     1.633313e+01\n",
       "std      6.604976e+01\n",
       "min      0.000000e+00\n",
       "25%      1.000000e+00\n",
       "50%      4.000000e+00\n",
       "75%      1.300000e+01\n",
       "max      5.631100e+04\n",
       "dtype: float64"
      ]
     },
     "execution_count": 41,
     "metadata": {},
     "output_type": "execute_result"
    }
   ],
   "source": [
    "df.interger7.describe().compute()"
   ]
  },
  {
   "cell_type": "code",
   "execution_count": 42,
   "metadata": {},
   "outputs": [
    {
     "data": {
      "text/plain": [
       "count    3.600117e+07\n",
       "mean     2.691304e+01\n",
       "std      3.979726e+02\n",
       "min      0.000000e+00\n",
       "25%      3.000000e+00\n",
       "50%      8.000000e+00\n",
       "75%      2.400000e+01\n",
       "max      6.553500e+04\n",
       "dtype: float64"
      ]
     },
     "execution_count": 42,
     "metadata": {},
     "output_type": "execute_result"
    }
   ],
   "source": [
    "df.interger3.describe().compute()"
   ]
  },
  {
   "cell_type": "code",
   "execution_count": 43,
   "metadata": {},
   "outputs": [
    {
     "data": {
      "text/plain": [
       "count    3.590325e+07\n",
       "mean     8.217461e+00\n",
       "std      1.621193e+01\n",
       "min      0.000000e+00\n",
       "25%      2.000000e+00\n",
       "50%      5.000000e+00\n",
       "75%      1.300000e+01\n",
       "max      7.393000e+03\n",
       "dtype: float64"
      ]
     },
     "execution_count": 43,
     "metadata": {},
     "output_type": "execute_result"
    }
   ],
   "source": [
    "df.interger13.describe().compute()"
   ]
  },
  {
   "cell_type": "code",
   "execution_count": 44,
   "metadata": {},
   "outputs": [
    {
     "data": {
      "text/plain": [
       "count    3.590325e+07\n",
       "mean     7.322680e+00\n",
       "std      8.793231e+00\n",
       "min      0.000000e+00\n",
       "25%      2.000000e+00\n",
       "50%      5.000000e+00\n",
       "75%      1.100000e+01\n",
       "max      9.690000e+02\n",
       "dtype: float64"
      ]
     },
     "execution_count": 44,
     "metadata": {},
     "output_type": "execute_result"
    }
   ],
   "source": [
    "df.interger4.describe().compute()"
   ]
  },
  {
   "cell_type": "code",
   "execution_count": 45,
   "metadata": {},
   "outputs": [
    {
     "data": {
      "text/plain": [
       "count    3.558829e+07\n",
       "mean     1.160619e+02\n",
       "std      3.825664e+02\n",
       "min      0.000000e+00\n",
       "25%      9.000000e+00\n",
       "50%      3.700000e+01\n",
       "75%      1.170000e+02\n",
       "max      4.310370e+05\n",
       "dtype: float64"
      ]
     },
     "execution_count": 45,
     "metadata": {},
     "output_type": "execute_result"
    }
   ],
   "source": [
    "df.interger6.describe().compute()"
   ]
  },
  {
   "cell_type": "markdown",
   "metadata": {},
   "source": [
    "Now we will use a linear classifier with the numerical variables as a baseline for our implementation."
   ]
  },
  {
   "cell_type": "code",
   "execution_count": 47,
   "metadata": {},
   "outputs": [
    {
     "data": {
      "text/plain": [
       "count    4.584062e+07\n",
       "mean     2.562234e-01\n",
       "std      4.365466e-01\n",
       "min      0.000000e+00\n",
       "25%      0.000000e+00\n",
       "50%      0.000000e+00\n",
       "75%      1.000000e+00\n",
       "max      1.000000e+00\n",
       "dtype: float64"
      ]
     },
     "execution_count": 47,
     "metadata": {},
     "output_type": "execute_result"
    }
   ],
   "source": [
    "df['label'].describe().compute()"
   ]
  },
  {
   "cell_type": "code",
   "execution_count": 9,
   "metadata": {},
   "outputs": [],
   "source": [
    "integer_data = df[['interger1', 'interger2', 'interger3', 'interger4',\n",
    "       'interger5', 'interger6', 'interger7', 'interger8', 'interger9',\n",
    "       'interger10', 'interger11', 'interger12', 'interger13']]"
   ]
  },
  {
   "cell_type": "code",
   "execution_count": 5,
   "metadata": {},
   "outputs": [],
   "source": [
    "from dask.distributed import Client \n",
    "client = Client() # start a local Dask client"
   ]
  },
  {
   "cell_type": "code",
   "execution_count": null,
   "metadata": {},
   "outputs": [
    {
     "name": "stderr",
     "output_type": "stream",
     "text": [
      "/home/bahbbc/anaconda3/lib/python3.6/site-packages/sklearn/ensemble/forest.py:246: FutureWarning: The default value of n_estimators will change from 10 in version 0.20 to 100 in 0.22.\n",
      "  \"10 in version 0.20 to 100 in 0.22.\", FutureWarning)\n"
     ]
    }
   ],
   "source": [
    "from sklearn.externals import joblib\n",
    "from sklearn.externals.joblib import parallel_backend\n",
    "from sklearn.ensemble import RandomForestClassifier \n",
    "with parallel_backend('dask'):\n",
    "    # Your normal scikit-learn code here\n",
    "    model = RandomForestClassifier()\n",
    "    model.fit(integer_data, df.label)"
   ]
  }
 ],
 "metadata": {
  "kernelspec": {
   "display_name": "Python 3",
   "language": "python",
   "name": "python3"
  },
  "language_info": {
   "codemirror_mode": {
    "name": "ipython",
    "version": 3
   },
   "file_extension": ".py",
   "mimetype": "text/x-python",
   "name": "python",
   "nbconvert_exporter": "python",
   "pygments_lexer": "ipython3",
   "version": "3.6.7"
  }
 },
 "nbformat": 4,
 "nbformat_minor": 2
}
